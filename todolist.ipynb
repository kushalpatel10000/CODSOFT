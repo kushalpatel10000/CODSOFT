{
 "cells": [
  {
   "cell_type": "code",
   "execution_count": 7,
   "id": "b53cbbe6",
   "metadata": {},
   "outputs": [],
   "source": [
    "#applocation to develop todo list\n",
    "\n",
    "#import Tkinter library\n",
    "\n",
    "from tkinter import *\n",
    "import tkinter.messagebox"
   ]
  },
  {
   "cell_type": "code",
   "execution_count": 8,
   "id": "08241b5d",
   "metadata": {},
   "outputs": [
    {
     "data": {
      "text/plain": [
       "''"
      ]
     },
     "execution_count": 8,
     "metadata": {},
     "output_type": "execute_result"
    }
   ],
   "source": [
    "#creating application window\n",
    "window=Tk()\n",
    "window.title('To-do list Application:1.0')"
   ]
  },
  {
   "cell_type": "code",
   "execution_count": 9,
   "id": "70a433e4",
   "metadata": {},
   "outputs": [],
   "source": [
    "#frame widget to hold the listbox and the scrollbar\n",
    "frame_task=Frame(window)\n",
    "frame_task.pack()"
   ]
  },
  {
   "cell_type": "code",
   "execution_count": 10,
   "id": "f53c2c05",
   "metadata": {},
   "outputs": [],
   "source": [
    "#using Listbox to hold items in a listbox\n",
    "\n",
    "listbox_task=Listbox(frame_task,bg=\"black\",fg=\"white\",height=15,width=50,font=\"Times\")\n",
    "listbox_task.pack(side=tkinter.LEFT)"
   ]
  },
  {
   "cell_type": "code",
   "execution_count": 11,
   "id": "50e2cb08",
   "metadata": {},
   "outputs": [],
   "source": [
    "#using Scrollbar in case the total list exceeds the size of the given window\n",
    "scrollbar_task=Scrollbar(frame_task)\n",
    "scrollbar_task.pack(side=tkinter.RIGHT,fill=tkinter.Y)\n",
    "listbox_task.config(yscrollcommand=scrollbar_task.set)\n",
    "scrollbar_task.config(command=listbox_task.yview)"
   ]
  },
  {
   "cell_type": "code",
   "execution_count": 16,
   "id": "afbf5bb0",
   "metadata": {},
   "outputs": [],
   "source": [
    "#Now we will using Button (Add, Update{mark} and delete)\n",
    "\n",
    "add_button=Button(window,text=\"Add Task\",width=50,command=addtask)\n",
    "add_button.pack(pady=3)\n",
    "\n",
    "delete_button=Button(window,text=\"Delete Task\",width=50,command=deletetask)\n",
    "delete_button.pack(pady=3)\n",
    "\n",
    "update_button=Button(window,text=\"Mark Task as Completed\",width=50,command=markcompletetask)\n",
    "update_button.pack(pady=3)\n",
    "\n",
    "window.mainloop()"
   ]
  },
  {
   "cell_type": "code",
   "execution_count": 13,
   "id": "224e4282",
   "metadata": {},
   "outputs": [],
   "source": [
    "#now we will define functions addtask, deletetask, markcompletetask\n",
    "\n",
    "def addtask():\n",
    "    #A new window will be pop-up to take input from us\n",
    "    input_text=\"\"\n",
    "    def add():\n",
    "        input_text=entery_task.get(1.0,\"end-1c\")\n",
    "        if input_text==\"\":\n",
    "            tkinter.messagebox.showwarning(title=\"warning!\",message=\"Please enter some task to do\")\n",
    "        else:\n",
    "            listbox_task.insert(END,input_text)\n",
    "            root1.destroy()\n",
    "    root1=Tk()\n",
    "    root1.title(\"Add Task\")\n",
    "    entery_task=Text(root1,width=40,height=4)\n",
    "    entery_task.pack()\n",
    "    button_temp=Button(root1,text=\"Add task\", command=add)\n",
    "    button_temp.pack()\n",
    "    root1.mainloop()"
   ]
  },
  {
   "cell_type": "code",
   "execution_count": 14,
   "id": "82fa14d8",
   "metadata": {},
   "outputs": [],
   "source": [
    "#now we will define function deletetask()\n",
    "\n",
    "def deletetask():\n",
    "    #select item and then delete that task\n",
    "    selected=listbox_task.curselection()\n",
    "    listbox_task.delete(selected[0])"
   ]
  },
  {
   "cell_type": "code",
   "execution_count": 15,
   "id": "68000e83",
   "metadata": {},
   "outputs": [],
   "source": [
    "#define function markcompletetask()\n",
    "\n",
    "def markcompletetask():\n",
    "    marked=listbox_task.curselection()\n",
    "    temp=marked[0]\n",
    "    temp_marked=listbox_task.get(marked)\n",
    "    temp_marked=temp_marked+ \" ✓\"\n",
    "    listbox_task.delete(temp)\n",
    "    listbox_task.insert(temp,temp_marked)"
   ]
  },
  {
   "cell_type": "code",
   "execution_count": null,
   "id": "ec360cb2",
   "metadata": {},
   "outputs": [],
   "source": []
  },
  {
   "cell_type": "code",
   "execution_count": null,
   "id": "46ac41da",
   "metadata": {},
   "outputs": [],
   "source": []
  }
 ],
 "metadata": {
  "kernelspec": {
   "display_name": "Python 3 (ipykernel)",
   "language": "python",
   "name": "python3"
  },
  "language_info": {
   "codemirror_mode": {
    "name": "ipython",
    "version": 3
   },
   "file_extension": ".py",
   "mimetype": "text/x-python",
   "name": "python",
   "nbconvert_exporter": "python",
   "pygments_lexer": "ipython3",
   "version": "3.11.5"
  }
 },
 "nbformat": 4,
 "nbformat_minor": 5
}
